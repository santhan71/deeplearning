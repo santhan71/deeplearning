{
  "nbformat": 4,
  "nbformat_minor": 0,
  "metadata": {
    "colab": {
      "name": "DL_PA1q.ipynb",
      "version": "0.3.2",
      "provenance": [],
      "collapsed_sections": [],
      "include_colab_link": true
    },
    "kernelspec": {
      "name": "python3",
      "display_name": "Python 3"
    }
  },
  "cells": [
    {
      "cell_type": "markdown",
      "metadata": {
        "id": "view-in-github",
        "colab_type": "text"
      },
      "source": [
        "<a href=\"https://colab.research.google.com/github/santhan71/deeplearning/blob/master/DL_PA1q.ipynb\" target=\"_parent\"><img src=\"https://colab.research.google.com/assets/colab-badge.svg\" alt=\"Open In Colab\"/></a>"
      ]
    },
    {
      "cell_type": "markdown",
      "metadata": {
        "id": "OEC3BNuxJf2J",
        "colab_type": "text"
      },
      "source": [
        "                                                                    Deep learning assignment(PA_1)\n",
        "                                                                          ROLL NO: EE19S001"
      ]
    },
    {
      "cell_type": "markdown",
      "metadata": {
        "id": "LGrmd3LOKLvx",
        "colab_type": "text"
      },
      "source": [
        "     The MNIST database (Modified National Institute of Standards and Technology database) is a large database of handwritten digits that is commonly used for training various image processing systems. The database is also widely used for training and testing in the field of machine learning.It was created by \"re-mixing\" the samples from NIST's original datasets. The creators felt that since NIST's training dataset was taken from American Census Bureau employees, while the testing dataset was taken from American high school students, it was not well-suited for machine learning experiments. Furthermore, the black and white images from NIST were normalized to fit into a 28x28 pixel bounding box and anti-aliased, which introduced grayscale levels.\n",
        "     The MNIST database contains 60,000 training images and 10,000 testing images. Half of the training set and half of the test set were taken from NIST's training dataset, while the other half of the training set and the other half of the test set were taken from NIST's testing dataset. There have been a number of scientific papers on attempts to achieve the lowest error rate; one paper, using a hierarchical system of convolutional neural networks, manages to get an error rate on the MNIST database of 0.23%. The original creators of the database keep a list of some of the methods tested on it. In their original paper, they use a support-vector machine to get an error rate of 0.8%. An extended dataset similar to MNIST called EMNIST has been published in 2017, which contains 240,000 training images, and 40,000 testing images of handwritten digits and characters."
      ]
    },
    {
      "cell_type": "markdown",
      "metadata": {
        "id": "oaSYSL-9J-cs",
        "colab_type": "text"
      },
      "source": [
        "      IN this assignemnt code,I am extracting only 1000 sample of training data set and 100 images from test data set\n",
        "              "
      ]
    },
    {
      "cell_type": "markdown",
      "metadata": {
        "id": "aArvkqhsPaTe",
        "colab_type": "text"
      },
      "source": [
        "        Importing required libraries for the programme"
      ]
    },
    {
      "cell_type": "code",
      "metadata": {
        "id": "xL-i6lDt8HRU",
        "colab_type": "code",
        "colab": {}
      },
      "source": [
        "import torch\n",
        "import torchvision\n",
        "import torchvision.datasets as datasets\n",
        "import numpy as np\n",
        "import matplotlib.pyplot as plt\n",
        "import torchvision.transforms as transforms\n",
        "from collections import Counter"
      ],
      "execution_count": 0,
      "outputs": []
    },
    {
      "cell_type": "markdown",
      "metadata": {
        "id": "H28Om45OPyOb",
        "colab_type": "text"
      },
      "source": [
        "   Download  the MNIST  training and testing data and load  the data set"
      ]
    },
    {
      "cell_type": "code",
      "metadata": {
        "id": "ryyMtJOi_TOb",
        "colab_type": "code",
        "outputId": "8ec3480c-eb3a-4b08-f997-c99e5d606b90",
        "colab": {
          "base_uri": "https://localhost:8080/",
          "height": 263
        }
      },
      "source": [
        "trainset = torchvision.datasets.MNIST(root='./data', train=True,\n",
        "                                        download=True, transform=transforms.ToTensor())\n",
        "\n",
        "testset =torchvision.datasets.MNIST(root='./data', train=False,\n",
        "                                        download=True, transform= transforms.ToTensor())\n",
        "trainloader = torch.utils.data.DataLoader(trainset)\n",
        "testloader = torch.utils.data.DataLoader(testset)"
      ],
      "execution_count": 0,
      "outputs": [
        {
          "output_type": "stream",
          "text": [
            "  0%|          | 16384/9912422 [00:00<01:10, 141259.17it/s]"
          ],
          "name": "stderr"
        },
        {
          "output_type": "stream",
          "text": [
            "Downloading http://yann.lecun.com/exdb/mnist/train-images-idx3-ubyte.gz to ./data/MNIST/raw/train-images-idx3-ubyte.gz\n"
          ],
          "name": "stdout"
        },
        {
          "output_type": "stream",
          "text": [
            "9920512it [00:00, 32452238.15it/s]                           \n"
          ],
          "name": "stderr"
        },
        {
          "output_type": "stream",
          "text": [
            "Extracting ./data/MNIST/raw/train-images-idx3-ubyte.gz\n"
          ],
          "name": "stdout"
        },
        {
          "output_type": "stream",
          "text": [
            "32768it [00:00, 453758.64it/s]\n",
            "  1%|          | 16384/1648877 [00:00<00:11, 145179.95it/s]"
          ],
          "name": "stderr"
        },
        {
          "output_type": "stream",
          "text": [
            "Downloading http://yann.lecun.com/exdb/mnist/train-labels-idx1-ubyte.gz to ./data/MNIST/raw/train-labels-idx1-ubyte.gz\n",
            "Extracting ./data/MNIST/raw/train-labels-idx1-ubyte.gz\n",
            "Downloading http://yann.lecun.com/exdb/mnist/t10k-images-idx3-ubyte.gz to ./data/MNIST/raw/t10k-images-idx3-ubyte.gz\n"
          ],
          "name": "stdout"
        },
        {
          "output_type": "stream",
          "text": [
            "1654784it [00:00, 7551656.58it/s]                            \n",
            "8192it [00:00, 176401.90it/s]\n"
          ],
          "name": "stderr"
        },
        {
          "output_type": "stream",
          "text": [
            "Extracting ./data/MNIST/raw/t10k-images-idx3-ubyte.gz\n",
            "Downloading http://yann.lecun.com/exdb/mnist/t10k-labels-idx1-ubyte.gz to ./data/MNIST/raw/t10k-labels-idx1-ubyte.gz\n",
            "Extracting ./data/MNIST/raw/t10k-labels-idx1-ubyte.gz\n",
            "Processing...\n",
            "Done!\n"
          ],
          "name": "stdout"
        }
      ]
    },
    {
      "cell_type": "markdown",
      "metadata": {
        "id": "nd8mD30IJb5a",
        "colab_type": "text"
      },
      "source": [
        "       Crop the given train and test data set to 1000 and 100 dataset and the get the labels of each data set"
      ]
    },
    {
      "cell_type": "code",
      "metadata": {
        "id": "qhoYHf2NABfs",
        "colab_type": "code",
        "colab": {}
      },
      "source": [
        "train_list = []\n",
        "for i in range(1000):\n",
        "    train_list.append(trainset[i])"
      ],
      "execution_count": 0,
      "outputs": []
    },
    {
      "cell_type": "code",
      "metadata": {
        "id": "CGF15yrWwPV7",
        "colab_type": "code",
        "colab": {}
      },
      "source": [
        "train_labels = []\n",
        "for i in range(1000):\n",
        "    train_labels.append(trainset[i][1])"
      ],
      "execution_count": 0,
      "outputs": []
    },
    {
      "cell_type": "code",
      "metadata": {
        "id": "s-js5ZQgwago",
        "colab_type": "code",
        "colab": {}
      },
      "source": [
        "print(len(train_labels))\n",
        "print(trainset[1])"
      ],
      "execution_count": 0,
      "outputs": []
    },
    {
      "cell_type": "code",
      "metadata": {
        "id": "YVdtkwogAp68",
        "colab_type": "code",
        "colab": {}
      },
      "source": [
        "test_list = []\n",
        "for i in range(100):\n",
        "    test_list.append(testset[i])"
      ],
      "execution_count": 0,
      "outputs": []
    },
    {
      "cell_type": "code",
      "metadata": {
        "id": "qrev9WfiwhAO",
        "colab_type": "code",
        "colab": {}
      },
      "source": [
        "test_labels = []\n",
        "for i in range(100):\n",
        "    test_labels.append(testset[i][1])"
      ],
      "execution_count": 0,
      "outputs": []
    },
    {
      "cell_type": "code",
      "metadata": {
        "id": "7w9laDyGxmi_",
        "colab_type": "code",
        "colab": {}
      },
      "source": [
        "print(test_labels)"
      ],
      "execution_count": 0,
      "outputs": []
    },
    {
      "cell_type": "code",
      "metadata": {
        "id": "EF0Whj0CFZ8f",
        "colab_type": "code",
        "colab": {}
      },
      "source": [
        "trainload_1 = torch.utils.data.DataLoader(train_list)\n",
        "testload_2= torch.utils.data.DataLoader(test_list)"
      ],
      "execution_count": 0,
      "outputs": []
    },
    {
      "cell_type": "code",
      "metadata": {
        "colab_type": "code",
        "id": "9qhogXH_UOt4",
        "colab": {}
      },
      "source": [
        "train_list1=[]\n",
        "for i in range(1000):\n",
        "  train_list1.append(train_list[i][0][0].view(1,-1))\n"
      ],
      "execution_count": 0,
      "outputs": []
    },
    {
      "cell_type": "code",
      "metadata": {
        "id": "1TNuMnnGYPdt",
        "colab_type": "code",
        "colab": {}
      },
      "source": [
        "test_list1=[]\n",
        "for i in range(100):\n",
        "  test_list1.append(test_list[i][0][0].view(1,-1))\n",
        "    "
      ],
      "execution_count": 0,
      "outputs": []
    },
    {
      "cell_type": "code",
      "metadata": {
        "id": "I9_jvncEz0NM",
        "colab_type": "code",
        "outputId": "96bda11c-68f1-41b2-dc47-6929a0676855",
        "colab": {
          "base_uri": "https://localhost:8080/",
          "height": 34
        }
      },
      "source": [
        "len(test_list1)"
      ],
      "execution_count": 0,
      "outputs": [
        {
          "output_type": "execute_result",
          "data": {
            "text/plain": [
              "100"
            ]
          },
          "metadata": {
            "tags": []
          },
          "execution_count": 22
        }
      ]
    },
    {
      "cell_type": "markdown",
      "metadata": {
        "id": "Pwk3YhEkTKfR",
        "colab_type": "text"
      },
      "source": [
        "     * Code for k=1 *(find the eculidian dustance and sorting them in increasing order)"
      ]
    },
    {
      "cell_type": "code",
      "metadata": {
        "id": "MGQJrIDlfmoE",
        "colab_type": "code",
        "colab": {}
      },
      "source": [
        "list_result = []\n",
        "list_resultsort = []\n",
        "x = torch.FloatTensor(100,1000)\n",
        "for i in range(100):\n",
        "  temp_list = []\n",
        "  for j in range(1000):\n",
        "    d1=abs((test_list1[i]-train_list1[j])**2)\n",
        "    dist = torch.sqrt(torch.sum(d1))\n",
        "    #temp2_list = np.sort(d2.numpy())\n",
        "    temp_list.append(dist)\n",
        "  list_result.append(np.array(temp_list))\n",
        "  list_resultsort.append(np.sort(np.array(temp_list)))\n",
        "list_result = np.array(list_result)\n",
        "list_resultsort = np.array(list_resultsort)"
      ],
      "execution_count": 0,
      "outputs": []
    },
    {
      "cell_type": "code",
      "metadata": {
        "id": "RX4rdZunNiSc",
        "colab_type": "code",
        "outputId": "01b4684a-e24e-4c93-f9d8-c5f805bc3b66",
        "colab": {
          "base_uri": "https://localhost:8080/",
          "height": 34
        }
      },
      "source": [
        "print(list_result.shape)\n",
        "#print(list_result[1])\n",
        "#print(np.array(list_result[1]))\n"
      ],
      "execution_count": 0,
      "outputs": [
        {
          "output_type": "stream",
          "text": [
            "(100, 1000)\n"
          ],
          "name": "stdout"
        }
      ]
    },
    {
      "cell_type": "code",
      "metadata": {
        "id": "_ALPHqH13Thx",
        "colab_type": "code",
        "outputId": "73441d2d-f325-43bd-96c9-c28732b3a1f6",
        "colab": {
          "base_uri": "https://localhost:8080/",
          "height": 34
        }
      },
      "source": [
        "print(list_resultsort.shape) "
      ],
      "execution_count": 0,
      "outputs": [
        {
          "output_type": "stream",
          "text": [
            "(100, 1000)\n"
          ],
          "name": "stdout"
        }
      ]
    },
    {
      "cell_type": "markdown",
      "metadata": {
        "id": "6Y5GEmXiT6ZM",
        "colab_type": "text"
      },
      "source": [
        "  Getting the labels of minimmum distance and comparing it with the test labels"
      ]
    },
    {
      "cell_type": "code",
      "metadata": {
        "id": "U7Kbr-7Zz_2W",
        "colab_type": "code",
        "colab": {}
      },
      "source": [
        "for i in range(100):\n",
        " # print(np.min(list_resultsort[i]))\n",
        "  print(np.where(list_result[i]==list_resultsort[i][0]))"
      ],
      "execution_count": 0,
      "outputs": []
    },
    {
      "cell_type": "code",
      "metadata": {
        "id": "PbfAaijr6W6S",
        "colab_type": "code",
        "colab": {}
      },
      "source": [
        "for i in range(100):\n",
        "  index = np.where(list_result[i]==list_resultsort[i][0])\n",
        "  print(index)"
      ],
      "execution_count": 0,
      "outputs": []
    },
    {
      "cell_type": "code",
      "metadata": {
        "id": "L2FT5YsFF4UI",
        "colab_type": "code",
        "colab": {}
      },
      "source": [
        "x_list = []\n",
        "for i in range(100):\n",
        "  print(np.where(list_result[i]==np.min(list_resultsort[i])))\n",
        "  print(train_labels[np.where(list_result[i]==np.min(list_resultsort[i]))[0][0]])\n",
        "  x_list.append(train_labels[np.where(list_result[i]==np.min(list_resultsort[i]))[0][0]])\n",
        " "
      ],
      "execution_count": 0,
      "outputs": []
    },
    {
      "cell_type": "code",
      "metadata": {
        "id": "kgdRCOg6KDAh",
        "colab_type": "code",
        "colab": {}
      },
      "source": [
        "print(x_list)"
      ],
      "execution_count": 0,
      "outputs": []
    },
    {
      "cell_type": "markdown",
      "metadata": {
        "id": "aYTsZRXRUsgo",
        "colab_type": "text"
      },
      "source": [
        "FInidng the accuracy"
      ]
    },
    {
      "cell_type": "code",
      "metadata": {
        "id": "9nBUCYa8OssU",
        "colab_type": "code",
        "outputId": "5416a866-01f4-4838-af68-bd69ddbb215d",
        "colab": {
          "base_uri": "https://localhost:8080/",
          "height": 34
        }
      },
      "source": [
        "\n",
        "c=0\n",
        "for i in range(100):\n",
        "  if(x_list[i] == test_labels[i]):\n",
        "    c=c+1\n",
        "  \n",
        "    \n",
        "print(c)"
      ],
      "execution_count": 0,
      "outputs": [
        {
          "output_type": "stream",
          "text": [
            "83\n"
          ],
          "name": "stdout"
        }
      ]
    },
    {
      "cell_type": "code",
      "metadata": {
        "id": "pKSB21_hVEnN",
        "colab_type": "code",
        "colab": {}
      },
      "source": [
        ""
      ],
      "execution_count": 0,
      "outputs": []
    },
    {
      "cell_type": "markdown",
      "metadata": {
        "id": "lh266FKcVR00",
        "colab_type": "text"
      },
      "source": [
        "      k-NN classifier for k=3"
      ]
    },
    {
      "cell_type": "code",
      "metadata": {
        "id": "s-netyd2Pjrl",
        "colab_type": "code",
        "outputId": "c4b0c8fa-60ce-47d4-9238-fcdd69fc5a39",
        "colab": {
          "base_uri": "https://localhost:8080/",
          "height": 34
        }
      },
      "source": [
        "list_result[1].argsort()[:3]"
      ],
      "execution_count": 0,
      "outputs": [
        {
          "output_type": "execute_result",
          "data": {
            "text/plain": [
              "array([360,  76, 602])"
            ]
          },
          "metadata": {
            "tags": []
          },
          "execution_count": 32
        }
      ]
    },
    {
      "cell_type": "markdown",
      "metadata": {
        "id": "YU2dBtr3Vj9o",
        "colab_type": "text"
      },
      "source": [
        "      Here we are trying to get the top 3 minimum dstance elements to the given data set "
      ]
    },
    {
      "cell_type": "code",
      "metadata": {
        "id": "lM3CAsGeeVC6",
        "colab_type": "code",
        "outputId": "04b5195a-b4d9-4da9-9fd9-d5560287e484",
        "colab": {
          "base_uri": "https://localhost:8080/",
          "height": 72
        }
      },
      "source": [
        "list_result1 = []\n",
        "for i in range(100):\n",
        "  temp_list = []\n",
        "  for j in range(1000):\n",
        "    d1=abs((test_list1[i]-train_list1[j])**2)\n",
        "    dist = torch.sqrt(torch.sum(d1))\n",
        "    #temp2_list = np.sort(d2.numpy())\n",
        "    temp_list.append(dist)\n",
        "  list_result1.append(np.array(temp_list).argsort()[:3])\n",
        "#list_result = np.array(list_result)\n",
        "\n",
        "print(list_result1)\n",
        "print(len(list_result1))"
      ],
      "execution_count": 0,
      "outputs": [
        {
          "output_type": "stream",
          "text": [
            "[array([773, 522, 962]), array([360,  76, 602]), array([466, 276, 604]), array([451, 320,  95]), array([914, 322, 194]), array([466, 290, 648]), array([ 54, 272, 154]), array([744, 932, 374]), array([237, 782, 996]), array([167,  15, 703]), array([524, 458,  88]), array([488, 494, 612]), array([116, 687, 362]), array([210, 612, 668]), array([678, 398, 638]), array([ 50, 316, 254]), array([334, 564, 322]), array([522, 934, 562]), array([924,  30,  76]), array([ 92, 580, 566]), array([423, 471, 419]), array([106, 802, 232]), array([488, 592, 372]), array([625, 912, 771]), array([ 92, 434, 932]), array([427, 399, 462]), array([686, 820, 908]), array([550, 564, 438]), array([320,  69, 662]), array([358, 184, 978]), array([ 74,  98, 130]), array([738,   8, 104]), array([136, 298,  74]), array([ 64, 828, 241]), array([795, 803, 839]), array([774, 347, 457]), array([ 84, 288, 798]), array([184, 780,  14]), array([472, 674,  70]), array([450, 128, 556]), array([ 72, 366, 102]), array([258, 636,  96]), array([372, 237, 564]), array([807, 510, 604]), array([132, 808, 780]), array([396, 496, 420]), array([870, 248,   6]), array([584, 418, 754]), array([438, 692,  58]), array([804, 164, 914]), array([ 62, 816, 672]), array([ 30, 486, 554]), array([396, 328, 474]), array([316, 254, 284]), array([108, 506, 464]), array([952, 216,  69]), array([914, 314, 877]), array([276, 604, 648]), array([116, 550, 763]), array([270, 579, 466]), array([686, 196, 214]), array([493, 923, 761]), array([354, 304, 566]), array([227, 423, 247]), array([954, 651, 567]), array([566, 754, 786]), array([296, 702, 472]), array([914, 237, 804]), array([ 74, 840, 130]), array([156, 435, 260]), array([562, 994, 522]), array([429, 283, 458]), array([844, 702, 869]), array([795,  33, 803]), array([780,  72, 102]), array([384, 898, 324]), array([ 98,  50, 856]), array([500, 268, 664]), array([ 19, 153,  22]), array([911, 880, 683]), array([812, 428, 786]), array([816, 431, 106]), array([684, 642, 213]), array([786, 170, 686]), array([532, 628, 708]), array([ 58, 877, 692]), array([773, 307, 880]), array([ 74,  48, 748]), array([762, 592, 534]), array([416, 290, 105]), array([479,  98, 149]), array([431, 498, 147]), array([ 22, 601, 319]), array([ 10,  74, 890]), array([200, 248,   6]), array([772, 763, 806]), array([870, 738, 104]), array([478, 894, 370]), array([126, 106, 238]), array([322, 940, 334])]\n",
            "100\n"
          ],
          "name": "stdout"
        }
      ]
    },
    {
      "cell_type": "code",
      "metadata": {
        "id": "Iy-A_nLRfgNf",
        "colab_type": "code",
        "colab": {}
      },
      "source": [
        "x_list1 = []\n",
        "for i in range(100):\n",
        "  x_list1.append([train_labels[z] for z in list_result1[i]])\n",
        " "
      ],
      "execution_count": 0,
      "outputs": []
    },
    {
      "cell_type": "code",
      "metadata": {
        "id": "5Mr9vZaAlIx4",
        "colab_type": "code",
        "colab": {}
      },
      "source": [
        "print(x_list1)"
      ],
      "execution_count": 0,
      "outputs": []
    },
    {
      "cell_type": "code",
      "metadata": {
        "id": "ugah7DvXgNLD",
        "colab_type": "code",
        "colab": {}
      },
      "source": [
        "print(test_labels)"
      ],
      "execution_count": 0,
      "outputs": []
    },
    {
      "cell_type": "markdown",
      "metadata": {
        "id": "VriNk5BhWG1D",
        "colab_type": "text"
      },
      "source": [
        "   counting the repeated numbers in the array ,if not possible  minimum distance label for 3 diffrent  classes"
      ]
    },
    {
      "cell_type": "code",
      "metadata": {
        "id": "2xzSKxLrrWZt",
        "colab_type": "code",
        "colab": {}
      },
      "source": [
        "final_list = []\n",
        "for i in range(100):\n",
        "  x_list1[i]\n",
        "  final_list.append(Counter(x_list1[i]))"
      ],
      "execution_count": 0,
      "outputs": []
    },
    {
      "cell_type": "code",
      "metadata": {
        "id": "6JeFbkUotW_-",
        "colab_type": "code",
        "outputId": "8fb78459-4782-49e3-e821-9b9a1f980383",
        "colab": {
          "base_uri": "https://localhost:8080/",
          "height": 54
        }
      },
      "source": [
        " print(final_list)  "
      ],
      "execution_count": 0,
      "outputs": [
        {
          "output_type": "stream",
          "text": [
            "[Counter({7: 3}), Counter({2: 2, 8: 1}), Counter({1: 3}), Counter({0: 3}), Counter({4: 2, 9: 1}), Counter({1: 3}), Counter({9: 2, 4: 1}), Counter({9: 3}), Counter({4: 1, 9: 1, 6: 1}), Counter({7: 2, 9: 1}), Counter({0: 3}), Counter({6: 2, 0: 1}), Counter({9: 3}), Counter({0: 3}), Counter({1: 3}), Counter({3: 2, 5: 1}), Counter({9: 2, 4: 1}), Counter({7: 3}), Counter({5: 1, 3: 1, 2: 1}), Counter({9: 2, 4: 1}), Counter({9: 3}), Counter({6: 2, 0: 1}), Counter({6: 2, 4: 1}), Counter({5: 3}), Counter({9: 2, 4: 1}), Counter({0: 3}), Counter({7: 3}), Counter({4: 2, 9: 1}), Counter({0: 3}), Counter({1: 3}), Counter({3: 3}), Counter({1: 3}), Counter({3: 3}), Counter({4: 2, 6: 1}), Counter({7: 3}), Counter({2: 3}), Counter({7: 3}), Counter({1: 3}), Counter({2: 2, 1: 1}), Counter({1: 3}), Counter({1: 3}), Counter({7: 3}), Counter({4: 3}), Counter({1: 2, 2: 1}), Counter({5: 1, 3: 1, 1: 1}), Counter({5: 3}), Counter({1: 3}), Counter({2: 1, 8: 1, 4: 1}), Counter({4: 3}), Counter({4: 3}), Counter({6: 3}), Counter({3: 2, 5: 1}), Counter({5: 3}), Counter({5: 2, 3: 1}), Counter({0: 2, 6: 1}), Counter({0: 3}), Counter({4: 3}), Counter({1: 3}), Counter({9: 3}), Counter({1: 2, 5: 1}), Counter({7: 3}), Counter({8: 2, 2: 1}), Counter({9: 2, 4: 1}), Counter({9: 3}), Counter({7: 3}), Counter({9: 1, 4: 1, 7: 1}), Counter({0: 2, 2: 1}), Counter({4: 3}), Counter({3: 3}), Counter({0: 3}), Counter({7: 3}), Counter({0: 3}), Counter({0: 2, 2: 1}), Counter({7: 2, 9: 1}), Counter({1: 3}), Counter({7: 3}), Counter({3: 3}), Counter({2: 2, 3: 1}), Counter({9: 3}), Counter({7: 3}), Counter({9: 2, 7: 1}), Counter({6: 3}), Counter({2: 3}), Counter({7: 2, 9: 1}), Counter({8: 3}), Counter({4: 3}), Counter({7: 3}), Counter({3: 1, 9: 1, 5: 1}), Counter({6: 3}), Counter({1: 3}), Counter({3: 3}), Counter({6: 3}), Counter({9: 3}), Counter({3: 3}), Counter({1: 3}), Counter({9: 3}), Counter({1: 3}), Counter({7: 2, 4: 1}), Counter({6: 3}), Counter({9: 3})]\n"
          ],
          "name": "stdout"
        }
      ]
    },
    {
      "cell_type": "code",
      "metadata": {
        "id": "Ph_F2FJ_2nzw",
        "colab_type": "code",
        "outputId": "24f5ea1c-895a-45ac-bb17-84d139ee13c6",
        "colab": {
          "base_uri": "https://localhost:8080/",
          "height": 54
        }
      },
      "source": [
        "predictions = []\n",
        "for item in final_list:\n",
        "  predictions.append(list(item.keys())[0])\n",
        "\n",
        "print(predictions)"
      ],
      "execution_count": 0,
      "outputs": [
        {
          "output_type": "stream",
          "text": [
            "[7, 2, 1, 0, 4, 1, 9, 9, 4, 9, 0, 6, 9, 0, 1, 3, 9, 7, 5, 4, 9, 6, 6, 5, 4, 0, 7, 9, 0, 1, 3, 1, 3, 4, 7, 2, 7, 1, 2, 1, 1, 7, 4, 2, 5, 5, 1, 2, 4, 4, 6, 3, 5, 5, 0, 0, 4, 1, 9, 1, 7, 2, 4, 9, 7, 9, 0, 4, 3, 0, 7, 0, 2, 7, 1, 7, 3, 3, 9, 7, 9, 6, 2, 7, 8, 4, 7, 3, 6, 1, 3, 6, 9, 3, 1, 9, 1, 7, 6, 9]\n"
          ],
          "name": "stdout"
        }
      ]
    },
    {
      "cell_type": "markdown",
      "metadata": {
        "id": "CTL294ewWns0",
        "colab_type": "text"
      },
      "source": [
        "      Finding the accuarcy"
      ]
    },
    {
      "cell_type": "code",
      "metadata": {
        "id": "-ozpEwht5DKb",
        "colab_type": "code",
        "outputId": "979929f0-c1b7-4634-b9ed-281e2bac46a3",
        "colab": {
          "base_uri": "https://localhost:8080/",
          "height": 34
        }
      },
      "source": [
        "y=0\n",
        "for i in range(100):\n",
        "  if(predictions[i] == test_labels[i]):\n",
        "    y=y+1\n",
        "  \n",
        "    \n",
        "print(y)"
      ],
      "execution_count": 0,
      "outputs": [
        {
          "output_type": "stream",
          "text": [
            "83\n"
          ],
          "name": "stdout"
        }
      ]
    },
    {
      "cell_type": "markdown",
      "metadata": {
        "id": "BxtaJ0ubWwoc",
        "colab_type": "text"
      },
      "source": [
        "           Plotting the confusion  matrix"
      ]
    },
    {
      "cell_type": "code",
      "metadata": {
        "id": "LnJ280r_tacR",
        "colab_type": "code",
        "colab": {}
      },
      "source": [
        "print(__doc__)\n",
        "\n",
        "import numpy as np\n",
        "import matplotlib.pyplot as plt\n",
        "\n",
        "from sklearn import svm, datasets\n",
        "from sklearn.model_selection import train_test_split\n",
        "from sklearn.metrics import confusion_matrix\n",
        "from sklearn.utils.multiclass import unique_labels\n",
        "\n",
        "\n",
        "\n",
        "class_names = ['0','1','2','3','4','5','6','7','8','9']\n",
        "\n",
        "\n",
        "\n",
        "def plot_confusion_matrix(y_true, y_pred, classes,\n",
        "                          normalize=False,\n",
        "                          title=None,\n",
        "                          cmap=plt.cm.Blues):\n",
        "    \"\"\"\n",
        "    This function prints and plots the confusion matrix.\n",
        "    Normalization can be applied by setting `normalize=True`.\n",
        "    \"\"\"\n",
        "    if not title:\n",
        "        if normalize:\n",
        "            title = 'Normalized confusion matrix'\n",
        "        else:\n",
        "            title = 'Confusion matrix, without normalization'\n",
        "\n",
        "    # Compute confusion matrix\n",
        "    cm = confusion_matrix(y_true, y_pred)\n",
        "    # Only use the labels that appear in the data\n",
        "    classes = [classes[i] for i in unique_labels(y_true, y_pred)]\n",
        "    if normalize:\n",
        "        cm = cm.astype('float') / cm.sum(axis=1)[:, np.newaxis]\n",
        "        print(\"Normalized confusion matrix\")\n",
        "    else:\n",
        "        print('Confusion matrix, without normalization')\n",
        "\n",
        "    print(cm)\n",
        "\n",
        "    fig, ax = plt.subplots()\n",
        "    im = ax.imshow(cm, interpolation='nearest', cmap=cmap)\n",
        "    ax.figure.colorbar(im, ax=ax)\n",
        "    # We want to show all ticks...\n",
        "    ax.set(xticks=np.arange(cm.shape[1]),\n",
        "           yticks=np.arange(cm.shape[0]),\n",
        "           # ... and label them with the respective list entries\n",
        "           xticklabels=classes, yticklabels=classes,\n",
        "           title=title,\n",
        "           ylabel='True label',\n",
        "           xlabel='Predicted label')\n",
        "\n",
        "    # Rotate the tick labels and set their alignment.\n",
        "    plt.setp(ax.get_xticklabels(), rotation=45, ha=\"right\",\n",
        "             rotation_mode=\"anchor\")\n",
        "\n",
        "    # Loop over data dimensions and create text annotations.\n",
        "    fmt = '.2f' if normalize else 'd'\n",
        "    thresh = cm.max() / 2.\n",
        "    for i in range(cm.shape[0]):\n",
        "        for j in range(cm.shape[1]):\n",
        "            ax.text(j, i, format(cm[i, j], fmt),\n",
        "                    ha=\"center\", va=\"center\",\n",
        "                    color=\"white\" if cm[i, j] > thresh else \"black\")\n",
        "    fig.tight_layout()\n",
        "    return ax\n",
        "\n",
        "\n",
        "np.set_printoptions(precision=2)\n",
        "\n",
        "\n",
        "plot_confusion_matrix(test_labels,predictions, classes=class_names,\n",
        "                      title='Confusion matrix, without normalization')\n",
        "\n",
        "\n",
        "plt.show()"
      ],
      "execution_count": 0,
      "outputs": []
    },
    {
      "cell_type": "markdown",
      "metadata": {
        "id": "QnPkwDaJaxqA",
        "colab_type": "text"
      },
      "source": [
        "                         Simliar process for k=5  "
      ]
    },
    {
      "cell_type": "code",
      "metadata": {
        "id": "gDnz3UhiW2hk",
        "colab_type": "code",
        "outputId": "999f1dbd-fcd4-4a00-f24b-5c37dc5b5b5e",
        "colab": {
          "base_uri": "https://localhost:8080/",
          "height": 72
        }
      },
      "source": [
        "list_result2 = []\n",
        "for i in range(100):\n",
        "  temp_list = []\n",
        "  for j in range(1000):\n",
        "    d1=abs((test_list1[i]-train_list1[j])**2)\n",
        "    dist = torch.sqrt(torch.sum(d1))\n",
        "    #temp2_list = np.sort(d2.numpy())\n",
        "    temp_list.append(dist)\n",
        "  list_result2.append(np.array(temp_list).argsort()[:5])\n",
        "#list_result = np.array(list_result)\n",
        "\n",
        "print(list_result2)\n",
        "print(len(list_result2))"
      ],
      "execution_count": 0,
      "outputs": [
        {
          "output_type": "stream",
          "text": [
            "[array([773, 522, 962, 243, 868]), array([360,  76, 602,  50, 732]), array([466, 276, 604, 290, 648]), array([451, 320,  95, 612, 326]), array([914, 322, 194, 988, 608]), array([466, 290, 648, 276, 604]), array([ 54, 272, 154, 372, 172]), array([744, 932, 374, 110, 754]), array([237, 782, 996, 578, 988]), array([167,  15, 703, 755, 337]), array([524, 458,  88, 429, 283]), array([488, 494, 612, 296, 534]), array([116, 687, 362, 806, 369]), array([210, 612, 668, 118, 662]), array([678, 398, 638, 366,  40]), array([ 50, 316, 254, 970, 998]), array([334, 564, 322, 350, 550]), array([522, 934, 562, 868, 371]), array([924,  30,  76, 198, 650]), array([ 92, 580, 566, 336, 812]), array([423, 471, 419, 707, 319]), array([106, 802, 232, 660,  32]), array([488, 592, 372, 906, 276]), array([625, 912, 771,   0, 396]), array([ 92, 434, 932, 682, 442]), array([427, 399, 462, 293, 519]), array([686, 820, 908, 196, 786]), array([550, 564, 438, 616, 877]), array([320,  69, 662,  95, 169]), array([358, 184, 978, 780, 104]), array([ 74,  98, 130, 856, 808]), array([738,   8, 104, 184, 638]), array([136, 298,  74,  98, 752]), array([ 64, 828, 241, 850, 489]), array([795, 803, 839, 683, 853]), array([774, 347, 457, 325, 563]), array([ 84, 288, 798, 904, 522]), array([184, 780,  14,   8, 618]), array([472, 674,  70, 270, 646]), array([450, 128, 556, 710, 920]), array([ 72, 366, 102, 484, 124]), array([258, 636,  96, 888, 654]), array([372, 237, 564, 336, 162]), array([807, 510, 604, 538, 276]), array([132, 808, 780, 832, 366]), array([396, 496, 420,  98, 514]), array([870, 248,   6, 104, 738]), array([584, 418, 754, 148, 379]), array([438, 692,  58, 194, 877]), array([804, 164, 914, 322,  92]), array([ 62, 816, 672, 401, 430]), array([ 30, 486, 554,  12, 895]), array([396, 328, 474, 116, 687]), array([316, 254, 284, 210, 718]), array([108, 506, 464, 658, 986]), array([952, 216,  69, 690, 662]), array([914, 314, 877, 194, 692]), array([276, 604, 648, 174, 676]), array([116, 550, 763, 446, 877]), array([270, 579, 466, 604,  67]), array([686, 196, 214, 820, 562]), array([493, 923, 761, 515, 615]), array([354, 304, 566, 442, 162]), array([227, 423, 247, 153, 754]), array([954, 651, 567, 683, 617]), array([566, 754, 786, 900,  26]), array([296, 702, 472, 418, 986]), array([914, 237, 804, 217, 289]), array([ 74, 840, 130,  98, 752]), array([156, 435, 260, 114, 489]), array([562, 994, 522, 371,  52]), array([429, 283, 458, 293, 435]), array([844, 702, 869, 866, 568]), array([795,  33, 803, 137, 583]), array([780,  72, 102,  14, 366]), array([384, 898, 324, 654,  96]), array([ 98,  50, 856, 136, 768]), array([500, 268, 664, 650, 798]), array([ 19, 153,  22, 423, 641]), array([911, 880, 683, 505, 753]), array([812, 428, 786, 932, 176]), array([816, 431, 106,  39, 151]), array([684, 642, 213, 365, 308]), array([786, 170, 686, 750, 820]), array([532, 628, 708, 144, 758]), array([ 58, 877, 692, 914, 194]), array([773, 307, 880, 839, 168]), array([ 74,  48, 748, 808, 298]), array([762, 592, 534, 186, 986]), array([416, 290, 105, 510, 315]), array([479,  98, 149, 752, 768]), array([431, 498, 147, 165, 816]), array([ 22, 601, 319, 586, 754]), array([ 10,  74, 890,  49, 130]), array([200, 248,   6, 406, 394]), array([772, 763, 806, 834, 329]), array([870, 738, 104, 978,   6]), array([478, 894, 370, 168, 920]), array([126, 106, 238, 578, 430]), array([322, 940, 334, 550, 428])]\n",
            "100\n"
          ],
          "name": "stdout"
        }
      ]
    },
    {
      "cell_type": "code",
      "metadata": {
        "id": "G6KyRcSKXHvN",
        "colab_type": "code",
        "colab": {}
      },
      "source": [
        "x_list2 = []\n",
        "for i in range(100):\n",
        "  x_list2.append([train_labels[m] for m in list_result2[i]])\n",
        " "
      ],
      "execution_count": 0,
      "outputs": []
    },
    {
      "cell_type": "code",
      "metadata": {
        "id": "cc_rwfvgXNPE",
        "colab_type": "code",
        "colab": {}
      },
      "source": [
        "final_list1 = []\n",
        "for i in range(100):\n",
        "  x_list2[i]\n",
        "  final_list1.append(Counter(x_list2[i]))"
      ],
      "execution_count": 0,
      "outputs": []
    },
    {
      "cell_type": "code",
      "metadata": {
        "id": "zP3SZ3_DX_st",
        "colab_type": "code",
        "colab": {}
      },
      "source": [
        "print(final_list1)"
      ],
      "execution_count": 0,
      "outputs": []
    },
    {
      "cell_type": "code",
      "metadata": {
        "id": "dKrAzu5SXRUD",
        "colab_type": "code",
        "colab": {}
      },
      "source": [
        "predictions1 = []\n",
        "for item in final_list1:\n",
        "  predictions1.append(list(item.keys())[0])\n",
        "\n",
        "print(predictions1)"
      ],
      "execution_count": 0,
      "outputs": []
    },
    {
      "cell_type": "code",
      "metadata": {
        "id": "bGmcCTrDYdAW",
        "colab_type": "code",
        "colab": {}
      },
      "source": [
        "z=0\n",
        "for i in range(100):\n",
        "  if(predictions1[i] == test_labels[i]):\n",
        "    z=z+1\n",
        "  \n",
        "    \n",
        "print(z)"
      ],
      "execution_count": 0,
      "outputs": []
    },
    {
      "cell_type": "code",
      "metadata": {
        "id": "adHfO1r3ZRyu",
        "colab_type": "code",
        "colab": {}
      },
      "source": [
        "print(__doc__)\n",
        "\n",
        "import numpy as np\n",
        "import matplotlib.pyplot as plt\n",
        "\n",
        "from sklearn import svm, datasets\n",
        "from sklearn.model_selection import train_test_split\n",
        "from sklearn.metrics import confusion_matrix\n",
        "from sklearn.utils.multiclass import unique_labels\n",
        "\n",
        "\n",
        "\n",
        "class_names = ['0','1','2','3','4','5','6','7','8','9']\n",
        "\n",
        "\n",
        "\n",
        "def plot_confusion_matrix(y_true, y_pred, classes,\n",
        "                          normalize=False,\n",
        "                          title=None,\n",
        "                          cmap=plt.cm.Blues):\n",
        "    \"\"\"\n",
        "    This function prints and plots the confusion matrix.\n",
        "    Normalization can be applied by setting `normalize=True`.\n",
        "    \"\"\"\n",
        "    if not title:\n",
        "        if normalize:\n",
        "            title = 'Normalized confusion matrix'\n",
        "        else:\n",
        "            title = 'Confusion matrix, without normalization'\n",
        "\n",
        "    # Compute confusion matrix\n",
        "    cm = confusion_matrix(y_true, y_pred)\n",
        "    # Only use the labels that appear in the data\n",
        "    classes = [classes[i] for i in unique_labels(y_true, y_pred)]\n",
        "    if normalize:\n",
        "        cm = cm.astype('float') / cm.sum(axis=1)[:, np.newaxis]\n",
        "        print(\"Normalized confusion matrix\")\n",
        "    else:\n",
        "        print('Confusion matrix, without normalization')\n",
        "\n",
        "    print(cm)\n",
        "\n",
        "    fig, ax = plt.subplots()\n",
        "    im = ax.imshow(cm, interpolation='nearest', cmap=cmap)\n",
        "    ax.figure.colorbar(im, ax=ax)\n",
        "    # We want to show all ticks...\n",
        "    ax.set(xticks=np.arange(cm.shape[1]),\n",
        "           yticks=np.arange(cm.shape[0]),\n",
        "           # ... and label them with the respective list entries\n",
        "           xticklabels=classes, yticklabels=classes,\n",
        "           title=title,\n",
        "           ylabel='True label',\n",
        "           xlabel='Predicted label')\n",
        "\n",
        "    # Rotate the tick labels and set their alignment.\n",
        "    plt.setp(ax.get_xticklabels(), rotation=45, ha=\"right\",\n",
        "             rotation_mode=\"anchor\")\n",
        "\n",
        "    # Loop over data dimensions and create text annotations.\n",
        "    fmt = '.2f' if normalize else 'd'\n",
        "    thresh = cm.max() / 2.\n",
        "    for i in range(cm.shape[0]):\n",
        "        for j in range(cm.shape[1]):\n",
        "            ax.text(j, i, format(cm[i, j], fmt),\n",
        "                    ha=\"center\", va=\"center\",\n",
        "                    color=\"white\" if cm[i, j] > thresh else \"black\")\n",
        "    fig.tight_layout()\n",
        "    return ax\n",
        "\n",
        "\n",
        "np.set_printoptions(precision=2)\n",
        "\n",
        "\n",
        "plot_confusion_matrix(test_labels,predictions1, classes=class_names,\n",
        "                      title='Confusion matrix, without normalization')\n",
        "\n",
        "\n",
        "plt.show()"
      ],
      "execution_count": 0,
      "outputs": []
    }
  ]
}